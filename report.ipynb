{
 "cells": [
  {
   "cell_type": "code",
   "execution_count": 15,
   "metadata": {},
   "outputs": [
    {
     "name": "stdout",
     "output_type": "stream",
     "text": [
      "\n"
     ]
    }
   ],
   "source": [
    "import os\n",
    "import signal\n",
    "from subprocess import Popen, PIPE, STDOUT\n",
    "\n",
    "# Use pipe to send data from c++ code!\n",
    "\n",
    "shelf_size_row = 1\n",
    "shelf_size_col = 1\n",
    "\n",
    "gap_size_row = 2\n",
    "gap_size_col = 2\n",
    "\n",
    "num_shelves_row = 1 \n",
    "num_shelves_col = 3\n",
    "    \n",
    "process = Popen('./sim-setup', stdin=PIPE, stdout=PIPE, universal_newlines=True, shell=True, preexec_fn=os.setsid)\n",
    "\n",
    "# Pipe the x and y values to the C++ executable\n",
    "process.stdin.write('{} {} {} {} {} {}\\n'.format(shelf_size_row, shelf_size_col, \n",
    "                                                    gap_size_row, gap_size_col,\n",
    "                                                    num_shelves_row, num_shelves_col))\n",
    "process.stdin.flush()\n",
    "\n",
    "print(process.stdout.readline()) \n",
    "\n",
    "# Kill the subprocess\n",
    "os.killpg(os.getpgid(process.pid), signal.SIGTERM)"
   ]
  }
 ],
 "metadata": {
  "kernelspec": {
   "display_name": "base",
   "language": "python",
   "name": "python3"
  },
  "language_info": {
   "codemirror_mode": {
    "name": "ipython",
    "version": 3
   },
   "file_extension": ".py",
   "mimetype": "text/x-python",
   "name": "python",
   "nbconvert_exporter": "python",
   "pygments_lexer": "ipython3",
   "version": "3.11.5"
  }
 },
 "nbformat": 4,
 "nbformat_minor": 2
}
