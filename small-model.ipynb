{
 "cells": [
  {
   "cell_type": "code",
   "execution_count": 47,
   "metadata": {},
   "outputs": [],
   "source": [
    "import numpy as np                  # Arrays\n",
    "import random                       # Random number generation \n",
    "import matplotlib.pyplot as plt     # General visualization\n",
    "import networkx as nx               # Graph visualization \n",
    "from libpysal.weights import lat2W  #  Grid adjacency matrix creator\n",
    "\n",
    "from tqdm import tqdm\n",
    "import itertools\n"
   ]
  },
  {
   "cell_type": "markdown",
   "metadata": {},
   "source": [
    "We model the floor plans of warehouses as graphs; nodes representing locations where stock is shelved and edges indicate an uninterrupted path between two locations.\n",
    "\n",
    "A general process for making adjacency list representations of such graphs is required."
   ]
  },
  {
   "cell_type": "code",
   "execution_count": 46,
   "metadata": {},
   "outputs": [
    {
     "data": {
      "image/png": "[encoded data removed]",
      "text/plain": [
       "<Figure size 1000x1000 with 1 Axes>"
      ]
     },
     "metadata": {},
     "output_type": "display_data"
    }
   ],
   "source": [
    "SHELF_SIZE = np.array([2, 8])\n",
    "GAP_SIZE = np.array([1, 4])\n",
    "NUM_SHELVES = np.array([18, 12])\n",
    "\n",
    "GRID_SIZE = NUM_SHELVES*(GAP_SIZE + SHELF_SIZE) + GAP_SIZE\n",
    "\n",
    "grid = np.zeros(GRID_SIZE)\n",
    "\n",
    "for index, values in np.ndenumerate(grid):\n",
    "    if np.all(((index) % (GAP_SIZE + SHELF_SIZE) > GAP_SIZE)):\n",
    "        grid[index] = 1\n",
    "\n",
    "\n",
    "plt.figure(figsize = (10, 10))\n",
    "plt.imshow(grid)\n",
    "plt.show()\n",
    "\n",
    "\n",
    "\n"
   ]
  }
 ],
 "metadata": {
  "kernelspec": {
   "display_name": "base",
   "language": "python",
   "name": "python3"
  },
  "language_info": {
   "codemirror_mode": {
    "name": "ipython",
    "version": 3
   },
   "file_extension": ".py",
   "mimetype": "text/x-python",
   "name": "python",
   "nbconvert_exporter": "python",
   "pygments_lexer": "ipython3",
   "version": "3.11.5"
  }
 },
 "nbformat": 4,
 "nbformat_minor": 2
}
